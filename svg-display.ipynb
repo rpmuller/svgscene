{
 "cells": [
  {
   "cell_type": "markdown",
   "metadata": {},
   "source": [
    "# Playing with SVG graphics in Jupyter Notebooks"
   ]
  },
  {
   "cell_type": "markdown",
   "metadata": {},
   "source": [
    "This is an example of how to use the simple svgscene.py program in this directory to draw simple shapes in jupyter notebooks.\n",
    "\n",
    "This replaces an [older standalone notebook](http://nbviewer.jupyter.org/gist/rpmuller/5666810) hosted on the jupyter nbviewer site."
   ]
  },
  {
   "cell_type": "code",
   "execution_count": 1,
   "metadata": {},
   "outputs": [
    {
     "data": {
      "image/svg+xml": [
       "<svg height=\"340\" version=\"1.1\" width=\"340\" xmlns=\"http://www.w3.org/2000/svg\"><g style=\"fill-opacity:1.0; stroke:black; stroke-width:1;\"><rect height=\"200\" style=\"fill:rgb(0,255,255);stroke-width:1;stroke=black\" width=\"200\" x=\"100\" y=\"100\" /><line x1=\"200\" x2=\"200\" y1=\"200\" y2=\"300\" /><line x1=\"200\" x2=\"300\" y1=\"200\" y2=\"200\" /><line x1=\"200\" x2=\"100\" y1=\"200\" y2=\"200\" /><line x1=\"200\" x2=\"200\" y1=\"200\" y2=\"100\" /><circle cx=\"200\" cy=\"200\" r=\"30\" style=\"fill:rgb(0,0,255);stroke=black\" /><circle cx=\"200\" cy=\"300\" r=\"30\" style=\"fill:rgb(0,255,0);stroke=black\" /><circle cx=\"300\" cy=\"200\" r=\"30\" style=\"fill:rgb(255,0,0);stroke=black\" /><circle cx=\"100\" cy=\"200\" r=\"30\" style=\"fill:rgb(255,255,0);stroke=black\" /><circle cx=\"200\" cy=\"100\" r=\"30\" style=\"fill:fuchsia;stroke=black\" /><text font-size=\"24\" x=\"50\" y=\"50\">Testing SVG</text></g></svg>"
      ],
      "text/plain": [
       "<svgscene.Scene instance at 0x0000000002418B48>"
      ]
     },
     "execution_count": 1,
     "metadata": {},
     "output_type": "execute_result"
    }
   ],
   "source": [
    "from svgscene import Scene\n",
    "scene = Scene()\n",
    "scene.rectangle((100,100),200,200,(0,255,255))\n",
    "scene.line((200,200),(200,300))\n",
    "scene.line((200,200),(300,200))\n",
    "scene.line((200,200),(100,200))\n",
    "scene.line((200,200),(200,100))\n",
    "scene.circle((200,200),30,(0,0,255))\n",
    "scene.circle((200,300),30,(0,255,0))\n",
    "scene.circle((300,200),30,(255,0,0))\n",
    "scene.circle((100,200),30,(255,255,0))\n",
    "scene.circle((200,100),30,\"fuchsia\")\n",
    "scene.text((50,50),\"Testing SVG\")\n",
    "scene"
   ]
  },
  {
   "cell_type": "code",
   "execution_count": 6,
   "metadata": {},
   "outputs": [],
   "source": []
  }
 ],
 "metadata": {
  "kernelspec": {
   "display_name": "Python 2",
   "language": "python",
   "name": "python2"
  },
  "language_info": {
   "codemirror_mode": {
    "name": "ipython",
    "version": 2
   },
   "file_extension": ".py",
   "mimetype": "text/x-python",
   "name": "python",
   "nbconvert_exporter": "python",
   "pygments_lexer": "ipython2",
   "version": "2.7.13"
  }
 },
 "nbformat": 4,
 "nbformat_minor": 1
}
